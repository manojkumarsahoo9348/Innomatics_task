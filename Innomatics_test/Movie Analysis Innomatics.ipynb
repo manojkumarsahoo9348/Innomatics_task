{
 "cells": [
  {
   "cell_type": "code",
   "execution_count": 1,
   "id": "dae2b4b7",
   "metadata": {},
   "outputs": [],
   "source": [
    "import pandas as pd"
   ]
  },
  {
   "cell_type": "code",
   "execution_count": 2,
   "id": "b00957c9",
   "metadata": {},
   "outputs": [],
   "source": [
    "import numpy as np\n",
    "import seaborn as sns"
   ]
  },
  {
   "cell_type": "code",
   "execution_count": 4,
   "id": "83959d6f",
   "metadata": {},
   "outputs": [],
   "source": [
    "import matplotlib as plt"
   ]
  },
  {
   "cell_type": "code",
   "execution_count": 6,
   "id": "7262ff2e",
   "metadata": {},
   "outputs": [],
   "source": [
    "links_df=pd.read_csv(r\"C:\\Users\\hp\\Downloads\\movie_data\\links.csv\")\n",
    "movies_df=pd.read_csv(r\"C:\\Users\\hp\\Downloads\\movie_data\\movies.csv\")\n",
    "ratings_df=pd.read_csv(r\"C:\\Users\\hp\\Downloads\\movie_data\\ratings.csv\")\n",
    "tags_df=pd.read_csv(r\"C:\\Users\\hp\\Downloads\\movie_data\\tags.csv\")"
   ]
  },
  {
   "cell_type": "code",
   "execution_count": 7,
   "id": "dd6d06f9",
   "metadata": {},
   "outputs": [
    {
     "data": {
      "text/plain": [
       "(9742, 3)"
      ]
     },
     "execution_count": 7,
     "metadata": {},
     "output_type": "execute_result"
    }
   ],
   "source": [
    "movies_df.shape"
   ]
  },
  {
   "cell_type": "code",
   "execution_count": 8,
   "id": "815ac698",
   "metadata": {},
   "outputs": [
    {
     "data": {
      "text/plain": [
       "(100836, 4)"
      ]
     },
     "execution_count": 8,
     "metadata": {},
     "output_type": "execute_result"
    }
   ],
   "source": [
    "ratings_df.shape"
   ]
  },
  {
   "cell_type": "code",
   "execution_count": 9,
   "id": "2c212d71",
   "metadata": {},
   "outputs": [
    {
     "data": {
      "text/plain": [
       "610"
      ]
     },
     "execution_count": 9,
     "metadata": {},
     "output_type": "execute_result"
    }
   ],
   "source": [
    "unique_user_ids = ratings_df['userId'].nunique()\n",
    "unique_user_ids"
   ]
  },
  {
   "cell_type": "code",
   "execution_count": 10,
   "id": "513edb4d",
   "metadata": {},
   "outputs": [
    {
     "data": {
      "text/plain": [
       "'Forrest Gump (1994)'"
      ]
     },
     "execution_count": 10,
     "metadata": {},
     "output_type": "execute_result"
    }
   ],
   "source": [
    "# Find the movieId that has received the maximum number of user ratings\n",
    "most_rated_movie_id = ratings_df['movieId'].value_counts().idxmax()\n",
    "\n",
    "# Get the movie title corresponding to this movieId\n",
    "most_rated_movie_title = movies_df[movies_df['movieId'] == most_rated_movie_id]['title'].values[0]\n",
    "most_rated_movie_title"
   ]
  },
  {
   "cell_type": "code",
   "execution_count": 11,
   "id": "d53c0fb1",
   "metadata": {},
   "outputs": [
    {
     "data": {
      "text/plain": [
       "2571"
      ]
     },
     "execution_count": 11,
     "metadata": {},
     "output_type": "execute_result"
    }
   ],
   "source": [
    "# Check if \"Matrix, The (1999)\" is in the movies dataframe and retrieve its movieId\n",
    "matrix_movie_id = movies_df[movies_df['title'] == \"Matrix, The (1999)\"]['movieId'].values[0]\n",
    "matrix_movie_id"
   ]
  },
  {
   "cell_type": "code",
   "execution_count": 12,
   "id": "32b4d723",
   "metadata": {},
   "outputs": [],
   "source": [
    "# Get all tags associated with this movieId\n",
    "matrix_tags = tags_df[tags_df['movieId'] == matrix_movie_id]['tag'].unique()\n"
   ]
  },
  {
   "cell_type": "code",
   "execution_count": 13,
   "id": "ef613235",
   "metadata": {},
   "outputs": [
    {
     "data": {
      "text/plain": [
       "['alternate universe', 'philosophy', 'post apocalyptic']"
      ]
     },
     "execution_count": 13,
     "metadata": {},
     "output_type": "execute_result"
    }
   ],
   "source": [
    "# List of tags to verify\n",
    "tags_to_verify = [\"alternate universe\", \"karate\", \"philosophy\", \"post apocalyptic\"]\n",
    "\n",
    "# Check which of these tags are in the matrix_tags\n",
    "correct_tags = [tag for tag in tags_to_verify if tag in matrix_tags]\n",
    "correct_tags\n"
   ]
  },
  {
   "cell_type": "code",
   "execution_count": 14,
   "id": "b77b6837",
   "metadata": {},
   "outputs": [],
   "source": [
    "# Get the movieId for \"Terminator 2: Judgment Day (1991)\"\n",
    "terminator_movie_id = movies_df[movies_df['title'] == \"Terminator 2: Judgment Day (1991)\"]['movieId'].values[0]\n"
   ]
  },
  {
   "cell_type": "code",
   "execution_count": 15,
   "id": "422785d7",
   "metadata": {},
   "outputs": [],
   "source": [
    "# Filter all ratings for this movieId\n",
    "terminator_ratings = ratings_df[ratings_df['movieId'] == terminator_movie_id]['rating']\n"
   ]
  },
  {
   "cell_type": "code",
   "execution_count": 16,
   "id": "730900a3",
   "metadata": {},
   "outputs": [
    {
     "data": {
      "text/plain": [
       "3.970982142857143"
      ]
     },
     "execution_count": 16,
     "metadata": {},
     "output_type": "execute_result"
    }
   ],
   "source": [
    "# Calculate the average rating\n",
    "average_rating = terminator_ratings.mean()\n",
    "average_rating\n"
   ]
  },
  {
   "cell_type": "code",
   "execution_count": 17,
   "id": "994cb9e8",
   "metadata": {},
   "outputs": [],
   "source": [
    "import matplotlib.pyplot as plt"
   ]
  },
  {
   "cell_type": "code",
   "execution_count": 18,
   "id": "690d3e5e",
   "metadata": {},
   "outputs": [
    {
     "name": "stderr",
     "output_type": "stream",
     "text": [
      "C:\\Users\\hp\\anaconda3\\Lib\\site-packages\\seaborn\\_oldcore.py:1119: FutureWarning: use_inf_as_na option is deprecated and will be removed in a future version. Convert inf values to NaN before operating instead.\n",
      "  with pd.option_context('mode.use_inf_as_na', True):\n"
     ]
    },
    {
     "data": {
      "image/png": "[encoded data removed]",
      "text/plain": [
       "<Figure size 640x480 with 1 Axes>"
      ]
     },
     "metadata": {},
     "output_type": "display_data"
    }
   ],
   "source": [
    "# Step 1: Get the movieId for \"Fight Club (1999)\"\n",
    "fight_club_movie_id = movies_df[movies_df['title'] == \"Fight Club (1999)\"]['movieId'].values[0]\n",
    "\n",
    "# Step 2: Filter all ratings for this movieId\n",
    "fight_club_ratings = ratings_df[ratings_df['movieId'] == fight_club_movie_id]['rating']\n",
    "\n",
    "# Step 3: Visualize the distribution\n",
    "sns.histplot(fight_club_ratings, bins=10, kde=True)\n",
    "plt.title('Distribution of User Ratings for \"Fight Club (1999)\"')\n",
    "plt.xlabel('Rating')\n",
    "plt.ylabel('Frequency')\n",
    "plt.show()"
   ]
  },
  {
   "cell_type": "code",
   "execution_count": 20,
   "id": "852fd655",
   "metadata": {},
   "outputs": [],
   "source": [
    "# Step 1: Group by movieId and aggregate ratings (count and mean)\n",
    "grouped_ratings = ratings_df.groupby('movieId').agg({'rating': ['count', 'mean']})\n",
    "grouped_ratings.columns = ['rating_count', 'rating_mean']  # Rename columns for clarity\n",
    "\n",
    "# Step 2: Inner join with movies DataFrame\n",
    "merged_df = pd.merge(movies_df, grouped_ratings, on='movieId', how='inner')\n",
    "\n",
    "# Step 3: Filter movies with more than 50 user ratings\n",
    "filtered_movies_df = merged_df[merged_df['rating_count'] > 50]"
   ]
  },
  {
   "cell_type": "code",
   "execution_count": 21,
   "id": "1d4c1c98",
   "metadata": {},
   "outputs": [
    {
     "data": {
      "text/plain": [
       "'Shawshank Redemption, The (1994)'"
      ]
     },
     "execution_count": 21,
     "metadata": {},
     "output_type": "execute_result"
    }
   ],
   "source": [
    "# Find the movie with the highest average rating\n",
    "most_popular_movie = filtered_movies_df.loc[filtered_movies_df['rating_mean'].idxmax()]\n",
    "\n",
    "# Extract the movie title\n",
    "most_popular_movie_title = most_popular_movie['title']\n",
    "most_popular_movie_title"
   ]
  },
  {
   "cell_type": "code",
   "execution_count": 22,
   "id": "b61ca5a0",
   "metadata": {},
   "outputs": [
    {
     "data": {
      "text/plain": [
       "['Forrest Gump (1994)',\n",
       " 'Shawshank Redemption, The (1994)',\n",
       " 'Pulp Fiction (1994)',\n",
       " 'Silence of the Lambs, The (1991)',\n",
       " 'Matrix, The (1999)']"
      ]
     },
     "execution_count": 22,
     "metadata": {},
     "output_type": "execute_result"
    }
   ],
   "source": [
    "# Sort the DataFrame by the number of user ratings in descending order\n",
    "top_movies_by_ratings_count = filtered_movies_df.sort_values(by='rating_count', ascending=False).head(5)\n",
    "\n",
    "# Extract the titles of the top 5 movies\n",
    "top_5_titles = top_movies_by_ratings_count['title'].tolist()\n",
    "top_5_titles"
   ]
  },
  {
   "cell_type": "code",
   "execution_count": 23,
   "id": "5eb0874d",
   "metadata": {},
   "outputs": [
    {
     "data": {
      "text/plain": [
       "'Jurassic Park (1993)'"
      ]
     },
     "execution_count": 23,
     "metadata": {},
     "output_type": "execute_result"
    }
   ],
   "source": [
    "# Assuming `filtered_movies_df` is already created from the previous steps\n",
    "\n",
    "# Filter the DataFrame to include only Sci-Fi movies\n",
    "sci_fi_movies_df = filtered_movies_df[filtered_movies_df['genres'].str.contains('Sci-Fi')]\n",
    "\n",
    "# Sort by the number of user ratings in descending order\n",
    "sorted_sci_fi_movies = sci_fi_movies_df.sort_values(by='rating_count', ascending=False)\n",
    "\n",
    "# Get the third most popular Sci-Fi movie based on the number of ratings\n",
    "third_most_popular_sci_fi_movie = sorted_sci_fi_movies.iloc[2]\n",
    "\n",
    "# Extract the movie title\n",
    "third_most_popular_sci_fi_movie_title = third_most_popular_sci_fi_movie['title']\n",
    "third_most_popular_sci_fi_movie_title\n"
   ]
  },
  {
   "cell_type": "code",
   "execution_count": null,
   "id": "4ea1da0d",
   "metadata": {},
   "outputs": [],
   "source": []
  }
 ],
 "metadata": {
  "kernelspec": {
   "display_name": "Python 3 (ipykernel)",
   "language": "python",
   "name": "python3"
  },
  "language_info": {
   "codemirror_mode": {
    "name": "ipython",
    "version": 3
   },
   "file_extension": ".py",
   "mimetype": "text/x-python",
   "name": "python",
   "nbconvert_exporter": "python",
   "pygments_lexer": "ipython3",
   "version": "3.11.4"
  }
 },
 "nbformat": 4,
 "nbformat_minor": 5
}
